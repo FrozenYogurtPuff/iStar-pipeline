{
 "cells": [
  {
   "cell_type": "code",
   "execution_count": 2,
   "id": "36a2a0f1-b114-40e3-9206-7a3dfc7c46dd",
   "metadata": {},
   "outputs": [
    {
     "name": "stdout",
     "output_type": "stream",
     "text": [
      "Looking in indexes: https://mirrors.sjtug.sjtu.edu.cn/pypi/web/simple\n",
      "Collecting spacy\n",
      "  Downloading https://mirror.sjtu.edu.cn/pypi-packages/a7/8c/95e3059e51b4eb3c15623786a4d1a73ec19f03fabb39bb280d27f0514d1e/spacy-3.2.1-cp37-cp37m-manylinux_2_17_x86_64.manylinux2014_x86_64.whl (6.0 MB)\n",
      "\u001b[K     |████████████████████████████████| 6.0 MB 1.0 MB/s eta 0:00:01\n",
      "\u001b[?25hCollecting cymem<2.1.0,>=2.0.2\n",
      "  Downloading https://mirror.sjtu.edu.cn/pypi-packages/07/bc/f8cf9b928bbfe1a716a796d366425ad59fb53d64d8397cf8977d9f3abbbb/cymem-2.0.6-cp37-cp37m-manylinux_2_17_x86_64.manylinux2014_x86_64.whl (35 kB)\n",
      "Collecting langcodes<4.0.0,>=3.2.0\n",
      "  Downloading https://mirror.sjtu.edu.cn/pypi-packages/fe/c3/0d04d248624a181e57c2870127dfa8d371973561caf54333c85e8f9133a2/langcodes-3.3.0-py3-none-any.whl (181 kB)\n",
      "\u001b[K     |████████████████████████████████| 181 kB 32.7 MB/s eta 0:00:01\n",
      "\u001b[?25hRequirement already satisfied: packaging>=20.0 in /root/miniconda3/envs/myconda/lib/python3.7/site-packages (from spacy) (20.9)\n",
      "Requirement already satisfied: requests<3.0.0,>=2.13.0 in /root/miniconda3/envs/myconda/lib/python3.7/site-packages (from spacy) (2.26.0)\n",
      "Requirement already satisfied: jinja2 in /root/miniconda3/envs/myconda/lib/python3.7/site-packages (from spacy) (3.0.1)\n",
      "Requirement already satisfied: setuptools in /root/miniconda3/envs/myconda/lib/python3.7/site-packages (from spacy) (52.0.0.post20210125)\n",
      "Collecting blis<0.8.0,>=0.4.0\n",
      "  Downloading https://mirror.sjtu.edu.cn/pypi-packages/5c/7e/a2710610d29a2f66fbca20f3839bb884072123e8c36a5ba10af97d478a23/blis-0.7.5-cp37-cp37m-manylinux_2_17_x86_64.manylinux2014_x86_64.whl (9.9 MB)\n",
      "\u001b[K     |████████████████████████████████| 9.9 MB 29.0 MB/s eta 0:00:01\n",
      "\u001b[?25hCollecting catalogue<2.1.0,>=2.0.6\n",
      "  Downloading https://mirror.sjtu.edu.cn/pypi-packages/1f/8b/273bf7d3863570302401991839e1b2c68ae544cc5b02367f58089db872cb/catalogue-2.0.6-py3-none-any.whl (17 kB)\n",
      "Collecting pydantic!=1.8,!=1.8.1,<1.9.0,>=1.7.4\n",
      "  Downloading https://mirror.sjtu.edu.cn/pypi-packages/9f/f2/2d5425efe57f6c4e06cbe5e587c1fd16929dcf0eb90bd4d3d1e1c97d1151/pydantic-1.8.2-cp37-cp37m-manylinux2014_x86_64.whl (10.1 MB)\n",
      "\u001b[K     |████████████████████████████████| 10.1 MB 24.8 MB/s eta 0:00:01\n",
      "\u001b[?25hCollecting srsly<3.0.0,>=2.4.1\n",
      "  Downloading https://mirror.sjtu.edu.cn/pypi-packages/3f/99/7afc93866e433bcbdc8f3689a9d9bfe811fe2ef8defa597ee298071487e5/srsly-2.4.2-cp37-cp37m-manylinux_2_17_x86_64.manylinux2014_x86_64.whl (451 kB)\n",
      "\u001b[K     |████████████████████████████████| 451 kB 2.9 MB/s eta 0:00:01\n",
      "\u001b[?25hCollecting preshed<3.1.0,>=3.0.2\n",
      "  Downloading https://mirror.sjtu.edu.cn/pypi-packages/62/a9/fac8395421bf7e30e67964eaa483fd66ad88bf9ba8dfad01c9d556ebe895/preshed-3.0.6-cp37-cp37m-manylinux_2_5_x86_64.manylinux1_x86_64.manylinux_2_17_x86_64.manylinux2014_x86_64.whl (125 kB)\n",
      "\u001b[K     |████████████████████████████████| 125 kB 3.0 MB/s eta 0:00:01\n",
      "\u001b[?25hCollecting typer<0.5.0,>=0.3.0\n",
      "  Downloading https://mirror.sjtu.edu.cn/pypi-packages/4f/bd/77f6cb38c291717c5109cc2638086033fd7de4f8aeb0ed95e9ed484efa82/typer-0.4.0-py3-none-any.whl (27 kB)\n",
      "Requirement already satisfied: typing-extensions<4.0.0.0,>=3.7.4 in /root/miniconda3/envs/myconda/lib/python3.7/site-packages (from spacy) (3.10.0.0)\n",
      "Collecting murmurhash<1.1.0,>=0.28.0\n",
      "  Downloading https://mirror.sjtu.edu.cn/pypi-packages/93/b3/2c47e78d1a7b6ffeb3bbfcbbd7de92db413f9c705ad2d3bd84bca2c9dd8d/murmurhash-1.0.6-cp37-cp37m-manylinux_2_5_x86_64.manylinux1_x86_64.manylinux_2_17_x86_64.manylinux2014_x86_64.whl (21 kB)\n",
      "Collecting spacy-loggers<2.0.0,>=1.0.0\n",
      "  Downloading https://mirror.sjtu.edu.cn/pypi-packages/9a/34/44741cf6abdf29b6baee3bc8a0b868213ecb9ed2b9f1c83a276053a32a92/spacy_loggers-1.0.1-py3-none-any.whl (7.0 kB)\n",
      "Requirement already satisfied: numpy>=1.15.0 in /root/miniconda3/envs/myconda/lib/python3.7/site-packages (from spacy) (1.20.3)\n",
      "Requirement already satisfied: tqdm<5.0.0,>=4.38.0 in /root/miniconda3/envs/myconda/lib/python3.7/site-packages (from spacy) (4.62.2)\n",
      "Collecting thinc<8.1.0,>=8.0.12\n",
      "  Downloading https://mirror.sjtu.edu.cn/pypi-packages/bf/49/5ff0590b2fb4739aad50ac64560f72dd6c182827e84798837d5dee358b40/thinc-8.0.13-cp37-cp37m-manylinux_2_17_x86_64.manylinux2014_x86_64.whl (628 kB)\n",
      "\u001b[K     |████████████████████████████████| 628 kB 1.0 MB/s eta 0:00:01\n",
      "\u001b[?25hCollecting spacy-legacy<3.1.0,>=3.0.8\n",
      "  Downloading https://mirror.sjtu.edu.cn/pypi-packages/d3/e8/1bc00eeff3faf1c50bde941f88a491a5c1128debb75dd8c913401e71585c/spacy_legacy-3.0.8-py2.py3-none-any.whl (14 kB)\n",
      "Collecting wasabi<1.1.0,>=0.8.1\n",
      "  Downloading https://mirror.sjtu.edu.cn/pypi-packages/da/96/1f8e7a9d5cd48251b84991657ba3aeab9463a9e897ff105f70e103946348/wasabi-0.9.0-py3-none-any.whl (25 kB)\n",
      "Collecting pathy>=0.3.5\n",
      "  Downloading https://mirror.sjtu.edu.cn/pypi-packages/44/b9/43b8bdc8154f7b895291a3573816216f1c00c23cda7ca2849f3bf9a07e46/pathy-0.6.1-py3-none-any.whl (42 kB)\n",
      "\u001b[K     |████████████████████████████████| 42 kB 812 kB/s eta 0:00:011\n",
      "\u001b[?25hRequirement already satisfied: zipp>=0.5 in /root/miniconda3/envs/myconda/lib/python3.7/site-packages (from catalogue<2.1.0,>=2.0.6->spacy) (3.4.1)\n",
      "Requirement already satisfied: pyparsing>=2.0.2 in /root/miniconda3/envs/myconda/lib/python3.7/site-packages (from packaging>=20.0->spacy) (2.4.7)\n",
      "Collecting smart-open<6.0.0,>=5.0.0\n",
      "  Downloading https://mirror.sjtu.edu.cn/pypi-packages/cd/11/05f68ea934c24ade38e95ac30a38407767787c4e3db1776eae4886ad8c95/smart_open-5.2.1-py3-none-any.whl (58 kB)\n",
      "\u001b[K     |████████████████████████████████| 58 kB 1.5 MB/s eta 0:00:011\n",
      "\u001b[?25hRequirement already satisfied: certifi>=2017.4.17 in /root/miniconda3/envs/myconda/lib/python3.7/site-packages (from requests<3.0.0,>=2.13.0->spacy) (2021.5.30)\n",
      "Requirement already satisfied: urllib3<1.27,>=1.21.1 in /root/miniconda3/envs/myconda/lib/python3.7/site-packages (from requests<3.0.0,>=2.13.0->spacy) (1.26.6)\n",
      "Requirement already satisfied: charset-normalizer~=2.0.0 in /root/miniconda3/envs/myconda/lib/python3.7/site-packages (from requests<3.0.0,>=2.13.0->spacy) (2.0.4)\n",
      "Requirement already satisfied: idna<4,>=2.5 in /root/miniconda3/envs/myconda/lib/python3.7/site-packages (from requests<3.0.0,>=2.13.0->spacy) (3.2)\n",
      "Collecting click<9.0.0,>=7.1.1\n",
      "  Downloading https://mirror.sjtu.edu.cn/pypi-packages/48/58/c8aa6a8e62cc75f39fee1092c45d6b6ba684122697d7ce7d53f64f98a129/click-8.0.3-py3-none-any.whl (97 kB)\n",
      "\u001b[K     |████████████████████████████████| 97 kB 1.3 MB/s eta 0:00:011\n",
      "\u001b[?25hRequirement already satisfied: importlib-metadata in /root/miniconda3/envs/myconda/lib/python3.7/site-packages (from click<9.0.0,>=7.1.1->typer<0.5.0,>=0.3.0->spacy) (4.5.0)\n",
      "Requirement already satisfied: MarkupSafe>=2.0 in /root/miniconda3/envs/myconda/lib/python3.7/site-packages (from jinja2->spacy) (2.0.1)\n",
      "Installing collected packages: murmurhash, cymem, click, catalogue, wasabi, typer, srsly, smart-open, pydantic, preshed, blis, thinc, spacy-loggers, spacy-legacy, pathy, langcodes, spacy\n",
      "Successfully installed blis-0.7.5 catalogue-2.0.6 click-8.0.3 cymem-2.0.6 langcodes-3.3.0 murmurhash-1.0.6 pathy-0.6.1 preshed-3.0.6 pydantic-1.8.2 smart-open-5.2.1 spacy-3.2.1 spacy-legacy-3.0.8 spacy-loggers-1.0.1 srsly-2.4.2 thinc-8.0.13 typer-0.4.0 wasabi-0.9.0\n",
      "\u001b[33mWARNING: Running pip as root will break packages and permissions. You should install packages reliably by using venv: https://pip.pypa.io/warnings/venv\u001b[0m\n",
      "Note: you may need to restart the kernel to use updated packages.\n"
     ]
    }
   ],
   "source": [
    "%pip install spacy"
   ]
  },
  {
   "cell_type": "code",
   "execution_count": 3,
   "id": "a8153ca5-f742-4d81-b1ec-2897256d93bf",
   "metadata": {},
   "outputs": [
    {
     "name": "stdout",
     "output_type": "stream",
     "text": [
      "Looking in indexes: https://mirrors.sjtug.sjtu.edu.cn/pypi/web/simple\n",
      "Collecting spacy_alignments\n",
      "  Downloading https://mirror.sjtu.edu.cn/pypi-packages/72/ae/ac87fe358846f4e7254b25be3c20904f80832ab7f206fd331cefd28badce/spacy_alignments-0.8.4-cp37-cp37m-manylinux_2_17_x86_64.manylinux2014_x86_64.whl (1.1 MB)\n",
      "\u001b[K     |████████████████████████████████| 1.1 MB 1.1 MB/s eta 0:00:01\n",
      "\u001b[?25hInstalling collected packages: spacy-alignments\n",
      "Successfully installed spacy-alignments-0.8.4\n",
      "\u001b[33mWARNING: Running pip as root will break packages and permissions. You should install packages reliably by using venv: https://pip.pypa.io/warnings/venv\u001b[0m\n",
      "Note: you may need to restart the kernel to use updated packages.\n"
     ]
    }
   ],
   "source": [
    "%pip install spacy_alignments"
   ]
  },
  {
   "cell_type": "code",
   "execution_count": 5,
   "id": "feb7472d-756b-456f-ae7f-6b306a0b9afd",
   "metadata": {},
   "outputs": [
    {
     "name": "stdout",
     "output_type": "stream",
     "text": [
      "Looking in indexes: https://mirrors.sjtug.sjtu.edu.cn/pypi/web/simple\n",
      "Collecting seqeval\n",
      "  Downloading https://mirror.sjtu.edu.cn/pypi-packages/9d/2d/233c79d5b4e5ab1dbf111242299153f3caddddbb691219f363ad55ce783d/seqeval-1.2.2.tar.gz (43 kB)\n",
      "\u001b[K     |████████████████████████████████| 43 kB 308 kB/s eta 0:00:011\n",
      "\u001b[?25hRequirement already satisfied: numpy>=1.14.0 in /root/miniconda3/envs/myconda/lib/python3.7/site-packages (from seqeval) (1.20.3)\n",
      "Requirement already satisfied: scikit-learn>=0.21.3 in /root/miniconda3/envs/myconda/lib/python3.7/site-packages (from seqeval) (0.24.2)\n",
      "Requirement already satisfied: scipy>=0.19.1 in /root/miniconda3/envs/myconda/lib/python3.7/site-packages (from scikit-learn>=0.21.3->seqeval) (1.7.0)\n",
      "Requirement already satisfied: joblib>=0.11 in /root/miniconda3/envs/myconda/lib/python3.7/site-packages (from scikit-learn>=0.21.3->seqeval) (1.0.1)\n",
      "Requirement already satisfied: threadpoolctl>=2.0.0 in /root/miniconda3/envs/myconda/lib/python3.7/site-packages (from scikit-learn>=0.21.3->seqeval) (2.1.0)\n",
      "Building wheels for collected packages: seqeval\n",
      "  Building wheel for seqeval (setup.py) ... \u001b[?25ldone\n",
      "\u001b[?25h  Created wheel for seqeval: filename=seqeval-1.2.2-py3-none-any.whl size=16170 sha256=a32a079472fab36b26d9c7836820f0f5d25638a6205689a7891e3fa0c8c8e4f5\n",
      "  Stored in directory: /root/.cache/pip/wheels/07/04/53/d5ebb86ff6f555fdc891d866ce86696e814aa81b44f21cd899\n",
      "Successfully built seqeval\n",
      "Installing collected packages: seqeval\n",
      "Successfully installed seqeval-1.2.2\n",
      "\u001b[33mWARNING: Running pip as root will break packages and permissions. You should install packages reliably by using venv: https://pip.pypa.io/warnings/venv\u001b[0m\n",
      "Note: you may need to restart the kernel to use updated packages.\n"
     ]
    }
   ],
   "source": [
    "%pip install seqeval"
   ]
  },
  {
   "cell_type": "code",
   "execution_count": 8,
   "id": "a4c7742b-832a-42a1-967d-54c5812e3483",
   "metadata": {},
   "outputs": [
    {
     "name": "stdout",
     "output_type": "stream",
     "text": [
      "Looking in indexes: https://mirrors.sjtug.sjtu.edu.cn/pypi/web/simple\n",
      "Collecting transformers\n",
      "  Downloading https://mirror.sjtu.edu.cn/pypi-packages/4a/7f/f1c28621af0d74794b18cbe5534ec7565ee782ba48257d08ec264bc4aacb/transformers-4.15.0-py3-none-any.whl (3.4 MB)\n",
      "\u001b[K     |████████████████████████████████| 3.4 MB 1.0 MB/s eta 0:00:01     |█▊                              | 184 kB 1.0 MB/s eta 0:00:04\n",
      "\u001b[?25hRequirement already satisfied: importlib-metadata in /root/miniconda3/envs/myconda/lib/python3.7/site-packages (from transformers) (4.5.0)\n",
      "Collecting filelock\n",
      "  Downloading https://mirror.sjtu.edu.cn/pypi-packages/ca/6c/ab2f79146ca546875e2a633d21e968acc17042ce88e4413b340541f0d4c5/filelock-3.4.2-py3-none-any.whl (9.9 kB)\n",
      "Requirement already satisfied: packaging>=20.0 in /root/miniconda3/envs/myconda/lib/python3.7/site-packages (from transformers) (20.9)\n",
      "Collecting regex!=2019.12.17\n",
      "  Downloading https://mirror.sjtu.edu.cn/pypi-packages/82/b9/09143a2072af5571227f1687e44fd9041cc5933fffaf2fbc30394c720141/regex-2022.1.18-cp37-cp37m-manylinux_2_17_x86_64.manylinux2014_x86_64.whl (748 kB)\n",
      "\u001b[K     |████████████████████████████████| 748 kB 1.0 MB/s eta 0:00:01\n",
      "\u001b[?25hRequirement already satisfied: numpy>=1.17 in /root/miniconda3/envs/myconda/lib/python3.7/site-packages (from transformers) (1.20.3)\n",
      "Collecting tokenizers<0.11,>=0.10.1\n",
      "  Downloading https://mirror.sjtu.edu.cn/pypi-packages/d4/e2/df3543e8ffdab68f5acc73f613de9c2b155ac47f162e725dcac87c521c11/tokenizers-0.10.3-cp37-cp37m-manylinux_2_5_x86_64.manylinux1_x86_64.manylinux_2_12_x86_64.manylinux2010_x86_64.whl (3.3 MB)\n",
      "\u001b[K     |████████████████████████████████| 3.3 MB 30.1 MB/s eta 0:00:01\n",
      "\u001b[?25hRequirement already satisfied: pyyaml>=5.1 in /root/miniconda3/envs/myconda/lib/python3.7/site-packages (from transformers) (5.4.1)\n",
      "Requirement already satisfied: tqdm>=4.27 in /root/miniconda3/envs/myconda/lib/python3.7/site-packages (from transformers) (4.62.2)\n",
      "Collecting sacremoses\n",
      "  Downloading https://mirror.sjtu.edu.cn/pypi-packages/ec/e5/407e634cbd3b96a9ce6960874c5b66829592ead9ac762bd50662244ce20b/sacremoses-0.0.47-py2.py3-none-any.whl (895 kB)\n",
      "\u001b[K     |████████████████████████████████| 895 kB 25.9 MB/s eta 0:00:01\n",
      "\u001b[?25hRequirement already satisfied: requests in /root/miniconda3/envs/myconda/lib/python3.7/site-packages (from transformers) (2.26.0)\n",
      "Collecting huggingface-hub<1.0,>=0.1.0\n",
      "  Downloading https://mirror.sjtu.edu.cn/pypi-packages/c8/df/1b454741459f6ce75f86534bdad42ca17291b14a83066695f7d2c676e16c/huggingface_hub-0.4.0-py3-none-any.whl (67 kB)\n",
      "\u001b[K     |████████████████████████████████| 67 kB 3.1 MB/s  eta 0:00:01\n",
      "\u001b[?25hRequirement already satisfied: typing-extensions>=3.7.4.3 in /root/miniconda3/envs/myconda/lib/python3.7/site-packages (from huggingface-hub<1.0,>=0.1.0->transformers) (3.10.0.0)\n",
      "Requirement already satisfied: pyparsing>=2.0.2 in /root/miniconda3/envs/myconda/lib/python3.7/site-packages (from packaging>=20.0->transformers) (2.4.7)\n",
      "Requirement already satisfied: zipp>=0.5 in /root/miniconda3/envs/myconda/lib/python3.7/site-packages (from importlib-metadata->transformers) (3.4.1)\n",
      "Requirement already satisfied: charset-normalizer~=2.0.0 in /root/miniconda3/envs/myconda/lib/python3.7/site-packages (from requests->transformers) (2.0.4)\n",
      "Requirement already satisfied: idna<4,>=2.5 in /root/miniconda3/envs/myconda/lib/python3.7/site-packages (from requests->transformers) (3.2)\n",
      "Requirement already satisfied: urllib3<1.27,>=1.21.1 in /root/miniconda3/envs/myconda/lib/python3.7/site-packages (from requests->transformers) (1.26.6)\n",
      "Requirement already satisfied: certifi>=2017.4.17 in /root/miniconda3/envs/myconda/lib/python3.7/site-packages (from requests->transformers) (2021.5.30)\n",
      "Requirement already satisfied: six in /root/miniconda3/envs/myconda/lib/python3.7/site-packages (from sacremoses->transformers) (1.16.0)\n",
      "Requirement already satisfied: click in /root/miniconda3/envs/myconda/lib/python3.7/site-packages (from sacremoses->transformers) (8.0.3)\n",
      "Requirement already satisfied: joblib in /root/miniconda3/envs/myconda/lib/python3.7/site-packages (from sacremoses->transformers) (1.0.1)\n",
      "Installing collected packages: regex, filelock, tokenizers, sacremoses, huggingface-hub, transformers\n",
      "Successfully installed filelock-3.4.2 huggingface-hub-0.4.0 regex-2022.1.18 sacremoses-0.0.47 tokenizers-0.10.3 transformers-4.15.0\n",
      "\u001b[33mWARNING: Running pip as root will break packages and permissions. You should install packages reliably by using venv: https://pip.pypa.io/warnings/venv\u001b[0m\n",
      "Note: you may need to restart the kernel to use updated packages.\n"
     ]
    }
   ],
   "source": [
    "%pip install transformers"
   ]
  },
  {
   "cell_type": "code",
   "execution_count": 16,
   "id": "f80131b8-1013-498e-9a04-3ed4c6a77e4f",
   "metadata": {},
   "outputs": [
    {
     "name": "stderr",
     "output_type": "stream",
     "text": [
      "Evaluating: 100%|██████████| 1/1 [00:00<00:00,  2.18it/s]\n"
     ]
    },
    {
     "data": {
      "text/html": [
       "<span class=\"tex2jax_ignore\"><div class=\"entities\" style=\"line-height: 2.5; direction: ltr\">This system \n",
       "<mark class=\"entity\" style=\"background: #ddd; padding: 0.45em 0.6em; margin: 0 0.25em; line-height: 1; border-radius: 0.35em;\">\n",
       "    is\n",
       "    <span style=\"font-size: 0.8em; font-weight: bold; line-height: 1; border-radius: 0.35em; vertical-align: middle; margin-left: 0.5rem\">Core</span>\n",
       "</mark>\n",
       " \n",
       "<mark class=\"entity\" style=\"background: #ddd; padding: 0.45em 0.6em; margin: 0 0.25em; line-height: 1; border-radius: 0.35em;\">\n",
       "    in\n",
       "    <span style=\"font-size: 0.8em; font-weight: bold; line-height: 1; border-radius: 0.35em; vertical-align: middle; margin-left: 0.5rem\">Core</span>\n",
       "</mark>\n",
       " \n",
       "<mark class=\"entity\" style=\"background: #ddd; padding: 0.45em 0.6em; margin: 0 0.25em; line-height: 1; border-radius: 0.35em;\">\n",
       "    line with the objectives of the\n",
       "    <span style=\"font-size: 0.8em; font-weight: bold; line-height: 1; border-radius: 0.35em; vertical-align: middle; margin-left: 0.5rem\">Core</span>\n",
       "</mark>\n",
       " CWM \n",
       "<mark class=\"entity\" style=\"background: #ddd; padding: 0.45em 0.6em; margin: 0 0.25em; line-height: 1; border-radius: 0.35em;\">\n",
       "    Information Technology initiative\n",
       "    <span style=\"font-size: 0.8em; font-weight: bold; line-height: 1; border-radius: 0.35em; vertical-align: middle; margin-left: 0.5rem\">Core</span>\n",
       "</mark>\n",
       " \n",
       "<mark class=\"entity\" style=\"background: #ddd; padding: 0.45em 0.6em; margin: 0 0.25em; line-height: 1; border-radius: 0.35em;\">\n",
       "    presented\n",
       "    <span style=\"font-size: 0.8em; font-weight: bold; line-height: 1; border-radius: 0.35em; vertical-align: middle; margin-left: 0.5rem\">Aux</span>\n",
       "</mark>\n",
       " to the Governing Board in June 2002.</div></span>"
      ],
      "text/plain": [
       "<IPython.core.display.HTML object>"
      ]
     },
     "metadata": {},
     "output_type": "display_data"
    }
   ],
   "source": [
    "import json\n",
    "from tqdm import tqdm\n",
    "import spacy\n",
    "from infer_task import predict_task as bert_task\n",
    "from spacy import displacy\n",
    "from spacy.tokens import Span\n",
    "import spacy_alignments as tokenizations\n",
    "from utils.utils_ner import get_entities\n",
    "\n",
    "def get_bert_task(sent):\n",
    "    data = [{'sent': sent}]\n",
    "    return bert_task(data)\n",
    "\n",
    "sent = 'This system is in line with the objectives of the CWM Information Technology initiative presented to the Governing Board in June 2002.'\n",
    "\n",
    "blank = spacy.blank('en')\n",
    "doc = blank.make_doc(sent)\n",
    "tokens = [i.text for i in doc]\n",
    "\n",
    "bert_bio, bert_conf, bert_token = get_bert_task(sent)\n",
    "\n",
    "b2v, v2b = tokenizations.get_alignments(bert_token[0], tokens)\n",
    "\n",
    "ents = []\n",
    "bert_ents = get_entities(bert_bio[0])\n",
    "for ent in bert_ents:\n",
    "    typ, b, e = ent\n",
    "    b_hat, e_hat = b2v[b][0], b2v[e][-1]\n",
    "    ents.append(Span(doc, b_hat, e_hat + 1, typ))\n",
    "doc.ents = ents\n",
    "displacy.render(doc, style=\"ent\", jupyter=True)"
   ]
  }
 ],
 "metadata": {
  "kernelspec": {
   "display_name": "myconda",
   "language": "python",
   "name": "myconda"
  },
  "language_info": {
   "codemirror_mode": {
    "name": "ipython",
    "version": 3
   },
   "file_extension": ".py",
   "mimetype": "text/x-python",
   "name": "python",
   "nbconvert_exporter": "python",
   "pygments_lexer": "ipython3",
   "version": "3.7.10"
  }
 },
 "nbformat": 4,
 "nbformat_minor": 5
}
