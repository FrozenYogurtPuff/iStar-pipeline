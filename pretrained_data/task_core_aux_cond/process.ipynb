{
 "cells": [
  {
   "cell_type": "code",
   "execution_count": 1,
   "metadata": {
    "collapsed": true
   },
   "outputs": [],
   "source": [
    "from doccano_transformer.datasets import NERDataset\n",
    "from doccano_transformer.utils import read_jsonl\n",
    "from tqdm import tqdm"
   ]
  },
  {
   "cell_type": "code",
   "execution_count": 3,
   "outputs": [
    {
     "name": "stderr",
     "output_type": "stream",
     "text": [
      "1093it [00:00, 11077.89it/s]\n"
     ]
    }
   ],
   "source": [
    "dataset = read_jsonl(filepath='all.jsonl', dataset=NERDataset, encoding='utf-8')\n",
    "conll = dataset.to_conll2003(tokenizer=str.split)\n",
    "with open('dataset.conll', 'w') as f:\n",
    "    for item in tqdm(conll):\n",
    "        f.write(item['data'])"
   ],
   "metadata": {
    "collapsed": false,
    "pycharm": {
     "name": "#%%\n"
    }
   }
  },
  {
   "cell_type": "code",
   "execution_count": 4,
   "outputs": [],
   "source": [
    "import re\n",
    "\n",
    "chars = [',', '.', '?', '!', '\"', ':', '(', ')', '/']\n",
    "with open('dataset_pure_punct.conll', 'w') as output_file:\n",
    "    with open('dataset.conll', 'r') as input_file:\n",
    "        first = True\n",
    "        for line in input_file:\n",
    "            if line.startswith('-DOCSTART-'):\n",
    "                if not first:\n",
    "                    output_file.write('\\n')\n",
    "                else:\n",
    "                    first = False\n",
    "            elif line == '\\n':\n",
    "                pass\n",
    "            else:\n",
    "                contents = line.split()\n",
    "                word = contents[0]\n",
    "                tag = contents[3]\n",
    "                texts = list(filter(None, re.split('([,|.|?|!|\"|:|(|)|/])', word)))\n",
    "                end_index = len(texts)\n",
    "                for text in texts[::-1]:\n",
    "                    if text in chars:\n",
    "                        end_index -= 1\n",
    "                    else:\n",
    "                        break\n",
    "                start_idx = 0\n",
    "                for idx, text in enumerate(texts):\n",
    "                    temp_tag = tag\n",
    "                    if idx > start_idx and tag.startswith('B-'):\n",
    "                        temp_tag = tag.replace('B-', 'I-')\n",
    "                    # exists trailing problem (eg. Done. ; add, edit and delete a book)\n",
    "                    if idx >= end_index:\n",
    "                        temp_tag = 'O'\n",
    "                    if idx == start_idx and text in '(\"':\n",
    "                        start_idx += 1\n",
    "                        output_file.write(\"{} {}\\n\".format(text, 'O'))\n",
    "                    else:\n",
    "                        output_file.write(\"{} {}\\n\".format(text, temp_tag))\n"
   ],
   "metadata": {
    "collapsed": false,
    "pycharm": {
     "name": "#%%\n"
    }
   }
  },
  {
   "cell_type": "code",
   "execution_count": 5,
   "outputs": [],
   "source": [
    "# Fix the trailing character problem\n",
    "with open('dataset_pure_punct_notrail.conll', 'w') as output_file:\n",
    "    with open('dataset_pure_punct.conll', 'r') as input_file:\n",
    "        queue = list()\n",
    "        occur = False\n",
    "        delimiter = ',.?!\":()/'\n",
    "        for line in input_file:\n",
    "            if line == '\\n':\n",
    "                for q in queue:\n",
    "                    output_file.write(\"{} {}\\n\".format(q[0], q[1]))\n",
    "                queue.clear()\n",
    "                output_file.write('\\n')\n",
    "                occur = False\n",
    "                continue\n",
    "            contents = line.split()\n",
    "            word = contents[0]\n",
    "            tag = contents[1]\n",
    "            if word in delimiter:  # need push to queue\n",
    "                occur = True\n",
    "            elif len(queue) != 0:  # check if occur delimiter\n",
    "                if not occur:\n",
    "                    for q in queue:\n",
    "                        output_file.write(\"{} {}\\n\".format(q[0], q[1]))\n",
    "                else:\n",
    "                    if queue[0][1] != 'O' and tag.startswith('I-') and queue[0][1][2:] == tag[2:]:\n",
    "                        for q in queue:\n",
    "                            if q[0] in delimiter:\n",
    "                                output_file.write(\"{} {}\\n\".format(q[0], tag))\n",
    "                            else:\n",
    "                                output_file.write(\"{} {}\\n\".format(q[0], q[1]))\n",
    "                    else:\n",
    "                        for q in queue:\n",
    "                            output_file.write(\"{} {}\\n\".format(q[0], q[1]))\n",
    "                    occur = False\n",
    "                queue.clear()\n",
    "            queue.append((word, tag))\n"
   ],
   "metadata": {
    "collapsed": false,
    "pycharm": {
     "name": "#%%\n"
    }
   }
  },
  {
   "cell_type": "code",
   "execution_count": 7,
   "outputs": [],
   "source": [
    "import random\n",
    "\n",
    "proportion = 80\n",
    "\n",
    "with open('dataset_pure_punct_notrail.conll', 'r') as input_file:\n",
    "    with open('train.txt', 'w') as train_file:\n",
    "        with open('dev.txt', 'w') as dev_file:\n",
    "            cache = []\n",
    "            for line in input_file:\n",
    "                if line != '\\n':\n",
    "                    cache.append(line)\n",
    "                else:\n",
    "                    dice = random.randint(1, 100)\n",
    "                    if dice > proportion:\n",
    "                        for item in cache:\n",
    "                            dev_file.write(item)\n",
    "                        dev_file.write('\\n')\n",
    "                    else:\n",
    "                        for item in cache:\n",
    "                            train_file.write(item)\n",
    "                        train_file.write('\\n')\n",
    "                    cache.clear()\n",
    "            if len(cache) > 0:\n",
    "                dice = random.randint(1, 100)\n",
    "                if dice > proportion:\n",
    "                    for item in cache:\n",
    "                        dev_file.write(item)\n",
    "                    dev_file.write('\\n')\n",
    "                else:\n",
    "                    for item in cache:\n",
    "                        train_file.write(item)\n",
    "                    train_file.write('\\n')"
   ],
   "metadata": {
    "collapsed": false,
    "pycharm": {
     "name": "#%%\n"
    }
   }
  },
  {
   "cell_type": "code",
   "execution_count": 9,
   "outputs": [],
   "source": [
    "import random\n",
    "\n",
    "total = 5\n",
    "curIdx = 0\n",
    "fileHandler = list()\n",
    "for i in range(total):\n",
    "    fileHandler.append(open(f'{i}.conll', 'w'))\n",
    "\n",
    "with open('dataset_pure_punct_notrail.conll', 'r') as input_file:\n",
    "    cache = []\n",
    "    for line in input_file:\n",
    "        if line != '\\n':\n",
    "            cache.append(line)\n",
    "        else:\n",
    "            handler = fileHandler[curIdx]\n",
    "            for item in cache:\n",
    "                handler.write(item)\n",
    "            handler.write('\\n')\n",
    "            cache.clear()\n",
    "            curIdx = (curIdx + 1) % total\n",
    "    if len(cache) > 0:\n",
    "        handler = fileHandler[curIdx]\n",
    "        for item in cache:\n",
    "            handler.write(item)\n",
    "        handler.write('\\n')\n",
    "        cache.clear()\n",
    "        curIdx = (curIdx + 1) % total"
   ],
   "metadata": {
    "collapsed": false,
    "pycharm": {
     "name": "#%%\n"
    }
   }
  },
  {
   "cell_type": "code",
   "execution_count": 10,
   "outputs": [],
   "source": [
    "for i in range(5):\n",
    "    with open(f'k-fold/combine/{i}/train.txt', 'w') as train_file:\n",
    "        for j in range(5):\n",
    "            if i == j:\n",
    "                continue\n",
    "            with open(f'k-fold/{j}.conll', 'r') as input_file:\n",
    "                for line in input_file:\n",
    "                    train_file.write(line)\n",
    "\n",
    "    with open(f'k-fold/combine/{i}/dev.txt', 'w') as dev_file:\n",
    "        with open(f'k-fold/{i}.conll', 'r') as input_file:\n",
    "            for line in input_file:\n",
    "                    dev_file.write(line)\n"
   ],
   "metadata": {
    "collapsed": false,
    "pycharm": {
     "name": "#%%\n"
    }
   }
  }
 ],
 "metadata": {
  "kernelspec": {
   "display_name": "Python 3",
   "language": "python",
   "name": "python3"
  },
  "language_info": {
   "codemirror_mode": {
    "name": "ipython",
    "version": 2
   },
   "file_extension": ".py",
   "mimetype": "text/x-python",
   "name": "python",
   "nbconvert_exporter": "python",
   "pygments_lexer": "ipython2",
   "version": "2.7.6"
  }
 },
 "nbformat": 4,
 "nbformat_minor": 0
}