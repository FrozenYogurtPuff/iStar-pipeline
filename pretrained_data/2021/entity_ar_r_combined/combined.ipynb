{
 "cells": [
  {
   "cell_type": "code",
   "execution_count": 2,
   "metadata": {
    "collapsed": true
   },
   "outputs": [],
   "source": [
    "import os\n",
    "import json"
   ]
  },
  {
   "cell_type": "code",
   "execution_count": 20,
   "outputs": [],
   "source": [
    "all_dict = {}\n",
    "with open('../resource/all.jsonl', 'r') as j1:\n",
    "    ss1 = j1.readlines()\n",
    "with open('../agent_role/all.jsonl', 'r') as j2:\n",
    "    ss2 = j2.readlines()\n",
    "ss = ss1 + ss2\n",
    "idx = 1\n",
    "for s in ss:\n",
    "    ss_json = json.loads(s)\n",
    "    text = ss_json['text']\n",
    "    labels = [tuple(item) for item in ss_json['labels']]\n",
    "    if text not in all_dict:\n",
    "        all_dict[text] = {'id': idx, 'text': text, 'labels': labels}\n",
    "        idx += 1\n",
    "    else:\n",
    "        assert all_dict[text]['text'] == text\n",
    "        all_dict[text]['labels'].extend([tuple(item) for item in labels])\n",
    "        all_dict[text]['labels'] = sorted(all_dict[text]['labels'])\n",
    "\n",
    "with open('all.jsonl', 'w') as j3:\n",
    "    for key in all_dict:\n",
    "        json.dump(all_dict[key], j3)\n",
    "        j3.write('\\n')"
   ],
   "metadata": {
    "collapsed": false,
    "pycharm": {
     "name": "#%%\n"
    }
   }
  },
  {
   "cell_type": "code",
   "execution_count": 41,
   "outputs": [],
   "source": [
    "from doccano_transformer.datasets import NERDataset\n",
    "from doccano_transformer.utils import read_jsonl\n",
    "from tqdm import tqdm"
   ],
   "metadata": {
    "collapsed": false,
    "pycharm": {
     "name": "#%%\n"
    }
   }
  },
  {
   "cell_type": "code",
   "execution_count": 42,
   "outputs": [
    {
     "name": "stderr",
     "output_type": "stream",
     "text": [
      "1086it [00:00, 13286.66it/s]\n"
     ]
    }
   ],
   "source": [
    "dataset = read_jsonl(filepath='all.jsonl', dataset=NERDataset, encoding='utf-8')\n",
    "conll = dataset.to_conll2003(tokenizer=str.split)\n",
    "with open('dataset.conll', 'w') as f:\n",
    "    for item in tqdm(conll):\n",
    "        f.write(item['data'])"
   ],
   "metadata": {
    "collapsed": false,
    "pycharm": {
     "name": "#%%\n"
    }
   }
  },
  {
   "cell_type": "code",
   "execution_count": 43,
   "outputs": [],
   "source": [
    "import re\n",
    "chars = [',', '.', '?', '!', '\"', ':', '(', ')', '/']\n",
    "with open('dataset_pure_punct.conll', 'w') as output_file:\n",
    "    with open('dataset.conll', 'r') as input_file:\n",
    "        first = True\n",
    "        for line in input_file:\n",
    "            if line.startswith('-DOCSTART-'):\n",
    "                if not first:\n",
    "                    output_file.write('\\n')\n",
    "                else:\n",
    "                    first = False\n",
    "            elif line == '\\n':\n",
    "                pass\n",
    "            else:\n",
    "                contents = line.split()\n",
    "                word = contents[0]\n",
    "                tag = contents[3]\n",
    "                texts = list(filter(None, re.split('([,|.|?|!|\"|:|(|)|/])', word)))\n",
    "                end_index = len(texts)\n",
    "                for text in texts[::-1]:\n",
    "                    if text in chars:\n",
    "                        end_index -= 1\n",
    "                    else:\n",
    "                        break\n",
    "                start_idx = 0\n",
    "                for idx, text in enumerate(texts):\n",
    "                    temp_tag = tag\n",
    "                    if idx > start_idx and tag.startswith('B-'):\n",
    "                        temp_tag = tag.replace('B-', 'I-')\n",
    "                    # exists trailing problem (eg. Done. ; add, edit and delete a book)\n",
    "                    if idx >= end_index:\n",
    "                        temp_tag = 'O'\n",
    "                    if idx == start_idx and text in '(\"':\n",
    "                        start_idx += 1\n",
    "                        output_file.write(\"{} {}\\n\".format(text, 'O'))\n",
    "                    else:\n",
    "                        output_file.write(\"{} {}\\n\".format(text, temp_tag))"
   ],
   "metadata": {
    "collapsed": false,
    "pycharm": {
     "name": "#%%\n"
    }
   }
  },
  {
   "cell_type": "code",
   "execution_count": 44,
   "outputs": [],
   "source": [
    "# Fix the trailing character problem\n",
    "with open('dataset_pure_punct_notrail.conll', 'w') as output_file:\n",
    "    with open('dataset_pure_punct.conll', 'r') as input_file:\n",
    "        queue = list()\n",
    "        occur = False\n",
    "        delimiter = ',.?!\":()/'\n",
    "        for line in input_file:\n",
    "            if line == '\\n':\n",
    "                for q in queue:\n",
    "                    output_file.write(\"{} {}\\n\".format(q[0], q[1]))\n",
    "                queue.clear()\n",
    "                output_file.write('\\n')\n",
    "                occur = False\n",
    "                continue\n",
    "            contents = line.split()\n",
    "            word = contents[0]\n",
    "            tag = contents[1]\n",
    "            if word in delimiter:     # need push to queue\n",
    "                occur = True\n",
    "            elif len(queue) != 0:       # check if occur delimiter\n",
    "                if not occur:\n",
    "                    for q in queue:\n",
    "                        output_file.write(\"{} {}\\n\".format(q[0], q[1]))\n",
    "                else:\n",
    "                    if queue[0][1] != 'O' and tag.startswith('I-') and queue[0][1][2:] == tag[2:]:\n",
    "                        for q in queue:\n",
    "                            if q[0] in delimiter:\n",
    "                                output_file.write(\"{} {}\\n\".format(q[0], tag))\n",
    "                            else:\n",
    "                                output_file.write(\"{} {}\\n\".format(q[0], q[1]))\n",
    "                    else:\n",
    "                        for q in queue:\n",
    "                            output_file.write(\"{} {}\\n\".format(q[0], q[1]))\n",
    "                    occur = False\n",
    "                queue.clear()\n",
    "            queue.append((word, tag))\n"
   ],
   "metadata": {
    "collapsed": false,
    "pycharm": {
     "name": "#%%\n"
    }
   }
  },
  {
   "cell_type": "code",
   "execution_count": 45,
   "outputs": [],
   "source": [
    "import random\n",
    "proportion = 80\n",
    "\n",
    "with open('dataset_pure_punct_notrail.conll', 'r') as input_file:\n",
    "    with open('train.txt', 'w') as train_file:\n",
    "        with open('dev.txt', 'w') as dev_file:\n",
    "            cache = []\n",
    "            for line in input_file:\n",
    "                if line != '\\n':\n",
    "                    cache.append(line)\n",
    "                else:\n",
    "                    dice = random.randint(1, 100)\n",
    "                    if dice > proportion:\n",
    "                        for item in cache:\n",
    "                            dev_file.write(item)\n",
    "                        dev_file.write('\\n')\n",
    "                    else:\n",
    "                        for item in cache:\n",
    "                            train_file.write(item)\n",
    "                        train_file.write('\\n')\n",
    "                    cache.clear()\n",
    "            if len(cache) > 0:\n",
    "                dice = random.randint(1, 100)\n",
    "                if dice > proportion:\n",
    "                    for item in cache:\n",
    "                        dev_file.write(item)\n",
    "                    dev_file.write('\\n')\n",
    "                else:\n",
    "                    for item in cache:\n",
    "                        train_file.write(item)\n",
    "                    train_file.write('\\n')"
   ],
   "metadata": {
    "collapsed": false,
    "pycharm": {
     "name": "#%%\n"
    }
   }
  }
 ],
 "metadata": {
  "kernelspec": {
   "name": "base",
   "language": "python",
   "display_name": "Python[base]"
  },
  "language_info": {
   "codemirror_mode": {
    "name": "ipython",
    "version": 2
   },
   "file_extension": ".py",
   "mimetype": "text/x-python",
   "name": "python",
   "nbconvert_exporter": "python",
   "pygments_lexer": "ipython2",
   "version": "2.7.6"
  }
 },
 "nbformat": 4,
 "nbformat_minor": 0
}