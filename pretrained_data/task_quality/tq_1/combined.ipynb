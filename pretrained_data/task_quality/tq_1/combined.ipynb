{
 "cells": [
  {
   "cell_type": "code",
   "execution_count": 2,
   "metadata": {
    "collapsed": true
   },
   "outputs": [],
   "source": [
    "import os\n",
    "import json"
   ]
  },
  {
   "cell_type": "code",
   "execution_count": 21,
   "outputs": [],
   "source": [
    "from doccano_transformer.datasets import NERDataset\n",
    "from doccano_transformer.utils import read_jsonl\n",
    "from tqdm import tqdm"
   ],
   "metadata": {
    "collapsed": false,
    "pycharm": {
     "name": "#%%\n"
    }
   }
  },
  {
   "cell_type": "code",
   "execution_count": 25,
   "outputs": [
    {
     "name": "stderr",
     "output_type": "stream",
     "text": [
      "1086it [00:00, 10934.68it/s]\n"
     ]
    }
   ],
   "source": [
    "dataset = read_jsonl(filepath='all.jsonl', dataset=NERDataset, encoding='utf-8')\n",
    "conll = dataset.to_conll2003(tokenizer=str.split)\n",
    "with open('dataset.conll', 'w') as f:\n",
    "    for item in tqdm(conll):\n",
    "        f.write(item['data'])"
   ],
   "metadata": {
    "collapsed": false,
    "pycharm": {
     "name": "#%%\n"
    }
   }
  },
  {
   "cell_type": "code",
   "execution_count": 26,
   "outputs": [],
   "source": [
    "import re\n",
    "chars = [',', '.', '?', '!', '\"', ':', '(', ')', '/']\n",
    "with open('dataset_pure_punct.conll', 'w') as output_file:\n",
    "    with open('dataset.conll', 'r') as input_file:\n",
    "        first = True\n",
    "        for line in input_file:\n",
    "            if line.startswith('-DOCSTART-'):\n",
    "                if not first:\n",
    "                    output_file.write('\\n')\n",
    "                else:\n",
    "                    first = False\n",
    "            elif line == '\\n':\n",
    "                pass\n",
    "            else:\n",
    "                contents = line.split()\n",
    "                word = contents[0]\n",
    "                tag = contents[3]\n",
    "                texts = list(filter(None, re.split('([,|.|?|!|\"|:|(|)|/])', word)))\n",
    "                end_index = len(texts)\n",
    "                for text in texts[::-1]:\n",
    "                    if text in chars:\n",
    "                        end_index -= 1\n",
    "                    else:\n",
    "                        break\n",
    "                for idx, text in enumerate(texts):\n",
    "                    temp_tag = tag\n",
    "                    if idx > 0 and tag.startswith('B-'):\n",
    "                        temp_tag = tag.replace('B-', 'I-')\n",
    "                    if idx >= end_index:\n",
    "                        temp_tag = 'O'\n",
    "                    output_file.write(\"{} {}\\n\".format(text, temp_tag))"
   ],
   "metadata": {
    "collapsed": false,
    "pycharm": {
     "name": "#%%\n"
    }
   }
  },
  {
   "cell_type": "code",
   "execution_count": 1,
   "outputs": [],
   "source": [
    "import random\n",
    "proportion = 80\n",
    "\n",
    "with open('dataset_pure_punct.conll', 'r') as input_file:\n",
    "    with open('train.txt', 'w') as train_file:\n",
    "        with open('dev.txt', 'w') as dev_file:\n",
    "            cache = []\n",
    "            for line in input_file:\n",
    "                if line != '\\n':\n",
    "                    cache.append(line)\n",
    "                else:\n",
    "                    dice = random.randint(1, 100)\n",
    "                    if dice > proportion:\n",
    "                        for item in cache:\n",
    "                            dev_file.write(item)\n",
    "                        dev_file.write('\\n')\n",
    "                    else:\n",
    "                        for item in cache:\n",
    "                            train_file.write(item)\n",
    "                        train_file.write('\\n')\n",
    "                    cache.clear()\n",
    "            if len(cache) > 0:\n",
    "                dice = random.randint(1, 100)\n",
    "                if dice > proportion:\n",
    "                    for item in cache:\n",
    "                        dev_file.write(item)\n",
    "                    dev_file.write('\\n')\n",
    "                else:\n",
    "                    for item in cache:\n",
    "                        train_file.write(item)\n",
    "                    train_file.write('\\n')"
   ],
   "metadata": {
    "collapsed": false,
    "pycharm": {
     "name": "#%%\n"
    }
   }
  }
 ],
 "metadata": {
  "kernelspec": {
   "name": "base",
   "language": "python",
   "display_name": "Python[base]"
  },
  "language_info": {
   "codemirror_mode": {
    "name": "ipython",
    "version": 2
   },
   "file_extension": ".py",
   "mimetype": "text/x-python",
   "name": "python",
   "nbconvert_exporter": "python",
   "pygments_lexer": "ipython2",
   "version": "2.7.6"
  }
 },
 "nbformat": 4,
 "nbformat_minor": 0
}